{
  "nbformat": 4,
  "nbformat_minor": 0,
  "metadata": {
    "colab": {
      "name": "classifier.ipynb",
      "provenance": [],
      "authorship_tag": "ABX9TyM7bpsSmCyYsYidrKRLSpXv",
      "include_colab_link": true
    },
    "kernelspec": {
      "name": "python3",
      "display_name": "Python 3"
    }
  },
  "cells": [
    {
      "cell_type": "markdown",
      "metadata": {
        "id": "view-in-github",
        "colab_type": "text"
      },
      "source": [
        "<a href=\"https://colab.research.google.com/github/ibkvictor/classifier_CIFAR10/blob/main/classifier.ipynb\" target=\"_parent\"><img src=\"https://colab.research.google.com/assets/colab-badge.svg\" alt=\"Open In Colab\"/></a>"
      ]
    },
    {
      "cell_type": "code",
      "metadata": {
        "id": "aKOccrtPyfM3"
      },
      "source": [
        "import torch\n",
        "import torchvision\n",
        "import torchvision.transforms as transforms"
      ],
      "execution_count": 4,
      "outputs": []
    },
    {
      "cell_type": "markdown",
      "metadata": {
        "id": "5f5ZE3OGG8OR"
      },
      "source": [
        "getting the data and normalizing"
      ]
    },
    {
      "cell_type": "code",
      "metadata": {
        "colab": {
          "base_uri": "https://localhost:8080/"
        },
        "id": "n5iISWB3ypBZ",
        "outputId": "766394d7-7d79-4e1e-e1b9-cedbfe0c6545"
      },
      "source": [
        "#define the transforms to occur on the images - converion to tensor and normalization\n",
        "transform = transforms.Compose([transforms.ToTensor(), transforms.Normalize((0.5, 0.5, 0.5), (0.5, 0.5, 0.5))]) #normalize(mean, std) for each channel\n",
        "\n",
        "#download and transfrom data\n",
        "train_data = torchvision.datasets.CIFAR10(root= './data', train = True, transform = transform, download = True)\n",
        "\n",
        "#creating data loader for train_data\n",
        "train_loader = torch.utils.data.DataLoader(dataset = train_data, batch_size = 4, shuffle = True, num_workers = 2) #shuffle: True for train, num_workers represent num of cores used for process.\n",
        "\n",
        "#download and transfrom data\n",
        "test_data = torchvision.datasets.CIFAR10(root= './data', train = False, transform = transform, download = True)\n",
        "\n",
        "#creating data loader for test_data\n",
        "test_loader = torch.utils.data.DataLoader(dataset = test_data, batch_size = 4, shuffle = False, num_workers = 2) #shuffle: False for test, num_workers represent num of cores used for process.\n",
        "\n",
        "#defining out classes\n",
        "classes = ['airplane', 'automobile', 'bird', 'cat', 'deer', 'dog', 'frog', 'horse', 'ship', 'truck']"
      ],
      "execution_count": 22,
      "outputs": [
        {
          "output_type": "stream",
          "text": [
            "Files already downloaded and verified\n",
            "Files already downloaded and verified\n"
          ],
          "name": "stdout"
        }
      ]
    },
    {
      "cell_type": "markdown",
      "metadata": {
        "id": "ylwPB25IKR0g"
      },
      "source": [
        "checking out our loaded data"
      ]
    },
    {
      "cell_type": "code",
      "metadata": {
        "id": "cR-azr34KgKS"
      },
      "source": [
        "import numpy as np\n",
        "import matplotlib.pyplot as plt"
      ],
      "execution_count": 6,
      "outputs": []
    },
    {
      "cell_type": "code",
      "metadata": {
        "id": "TnVNRWSgKH6j"
      },
      "source": [
        "def imshow(img):\n",
        "  #unnormalizing\n",
        "  img = img / 2 + 0.5\n",
        "\n",
        "  #covert image to numpy array\n",
        "  img = img.numpy()\n",
        "  plt.imshow(img.transpose(1, 2, 0)) #transpose so img can be heigh, width, channel and not channel, width, height\n",
        "  \n",
        "  #displays image\n",
        "  plt.show()"
      ],
      "execution_count": 20,
      "outputs": []
    },
    {
      "cell_type": "code",
      "metadata": {
        "colab": {
          "base_uri": "https://localhost:8080/",
          "height": 283
        },
        "id": "eVKio8fyLCvu",
        "outputId": "d1c55f0a-71e8-49ec-ba03-9c5184b1f617"
      },
      "source": [
        "#randomly generating data\n",
        "rand_train = iter(train_loader)\n",
        "rand_train_data = rand_train.next()\n",
        "\n",
        "#unpacking values to images and labels\n",
        "images, labels = rand_train_data\n",
        "\n",
        "#display image\n",
        "imshow(images[0])\n",
        "\n",
        "#print class label\n",
        "print(classes[labels[0].item()])"
      ],
      "execution_count": 23,
      "outputs": [
        {
          "output_type": "display_data",
          "data": {
            "image/png": "[encoded data removed]",
            "text/plain": [
              "<Figure size 432x288 with 1 Axes>"
            ]
          },
          "metadata": {
            "tags": [],
            "needs_background": "light"
          }
        },
        {
          "output_type": "stream",
          "text": [
            "deer\n"
          ],
          "name": "stdout"
        }
      ]
    },
    {
      "cell_type": "markdown",
      "metadata": {
        "id": "X_kD64iiPn4e"
      },
      "source": [
        "creating a neural network"
      ]
    },
    {
      "cell_type": "code",
      "metadata": {
        "id": "kXEMefwZPeRU"
      },
      "source": [
        "import torch.nn as nn\n",
        "import torch.nn.functional as F"
      ],
      "execution_count": 25,
      "outputs": []
    },
    {
      "cell_type": "code",
      "metadata": {
        "id": "wGuKodXSPZjO"
      },
      "source": [
        "class Net(nn.Module):\n",
        "  def __init__(self):\n",
        "    \"\"\"\n",
        "    initializing network parameters\n",
        "    \"\"\"\n",
        "    #inheritance of all components of nn.Module initialized parameters\n",
        "    super(Net, self).__init__()\n",
        "\n",
        "    #creating layers\n",
        "    \n",
        "    #first convnet layer\n",
        "    self.conv1 = nn.Conv2d(3, 6, 5) #parsed are the input channels, output channels and filter size\n",
        "\n",
        "    #second convnet layer\n",
        "    self.conv2 = nn.Conv2d(6, 16, 5) #parsed are the input channels, output channels and filter size\n",
        "\n",
        "    #maxpooling layer\n",
        "    self.maxpool = nn.MaxPool2d(2) #the kernel size for maxpool\n",
        "\n",
        "    #fully connected layer 1\n",
        "    self.fc1 = nn.Linear(5 * 5 * 16 , 120) #parsed are the input nodes and output nodes\n",
        "\n",
        "    #fully connected layer 2\n",
        "    self.fc2 = nn.Linear(120, 56)\n",
        "\n",
        "    #output layer 3\n",
        "    self.fc3 = nn.Linear(56, 10)\n",
        "\n",
        "  def forward(self, x):\n",
        "    \"\"\"\n",
        "    feed forward operation of network from input\n",
        "    output: network output\n",
        "    \"\"\"\n",
        "    X = F.relu(self.maxpool(self.conv1(x)))\n",
        "\n",
        "    X = F.relu(self.maxpool(self.conv2(X)))\n",
        "\n",
        "    X = X.view(-1, self.flat_nodes(X))\n",
        "    \n",
        "    X = F.relu(self.fc1(X))\n",
        "\n",
        "    X = F.relu(self.fc2(X))\n",
        "\n",
        "    out = self.fc3(X)\n",
        "    return out\n",
        "\n",
        "  def flat_nodes(self, x):\n",
        "    flat_sizes = list(x.size()[1:])\n",
        "\n",
        "    num_nodes = 1\n",
        "    for i in flat_sizes:\n",
        "      num_nodes *= i\n",
        "\n",
        "    return num_nodes\n"
      ],
      "execution_count": 92,
      "outputs": []
    },
    {
      "cell_type": "code",
      "metadata": {
        "id": "1nKjD_HWUeOX"
      },
      "source": [
        "#initilialize network\n",
        "net = Net()"
      ],
      "execution_count": 93,
      "outputs": []
    },
    {
      "cell_type": "code",
      "metadata": {
        "colab": {
          "base_uri": "https://localhost:8080/"
        },
        "id": "pOLDdBSBcA52",
        "outputId": "67aa0534-4304-4a2e-9f83-3944ca6bedcc"
      },
      "source": [
        "print(net.parameters)"
      ],
      "execution_count": 43,
      "outputs": [
        {
          "output_type": "stream",
          "text": [
            "<bound method Module.parameters of Net(\n",
            "  (conv1): Conv2d(3, 6, kernel_size=(5, 5), stride=(1, 1))\n",
            "  (conv2): Conv2d(6, 16, kernel_size=(5, 5), stride=(1, 1))\n",
            "  (maxpool): MaxPool2d(kernel_size=2, stride=2, padding=0, dilation=1, ceil_mode=False)\n",
            "  (fc1): Linear(in_features=400, out_features=120, bias=True)\n",
            "  (fc2): Linear(in_features=120, out_features=56, bias=True)\n",
            "  (fc3): Linear(in_features=56, out_features=10, bias=True)\n",
            ")>\n"
          ],
          "name": "stdout"
        }
      ]
    },
    {
      "cell_type": "markdown",
      "metadata": {
        "id": "efadsw_3Ut5t"
      },
      "source": [
        "define loss and optimizer"
      ]
    },
    {
      "cell_type": "code",
      "metadata": {
        "id": "HnzwB2YnUylE"
      },
      "source": [
        "#importing optimizer\n",
        "import torch.optim as optimizer\n",
        "\n",
        "#defining loss function\n",
        "loss_fn = torch.nn.CrossEntropyLoss()\n",
        "\n",
        "#setting optimizer - learning rate and momentum\n",
        "optm = optimizer.SGD(net.parameters(), lr = 0.001, momentum = 0.9) #net.parameters(), learning_rate, momentum"
      ],
      "execution_count": 94,
      "outputs": []
    },
    {
      "cell_type": "markdown",
      "metadata": {
        "id": "hpaWPQ54Uk8v"
      },
      "source": [
        "Begin training"
      ]
    },
    {
      "cell_type": "code",
      "metadata": {
        "colab": {
          "base_uri": "https://localhost:8080/"
        },
        "id": "PIdUtUN6UknX",
        "outputId": "971673f1-5990-40a3-ad5c-63fb2a4f5c33"
      },
      "source": [
        "for epoch in range(2):\n",
        "  monitor_loss = 0.0\n",
        "  for i, data in enumerate(train_loader):\n",
        "    \n",
        "    #unpacking values\n",
        "    image, label = data\n",
        "\n",
        "    #set network and optimizer gradients to zero\n",
        "    optm.zero_grad()\n",
        "\n",
        "    #(working across batch, so no need for individual calculation)\n",
        "    #feed forward\n",
        "    output = net(image)\n",
        "\n",
        "    #calculate loss\n",
        "    loss = loss_fn(output, label)\n",
        "\n",
        "    #compute gradients\n",
        "    loss.backward()\n",
        "\n",
        "    #optimizer performs a step of gradient descent using already initialised learning rate\n",
        "    optm.step()\n",
        "\n",
        "\n",
        "    #printing out loss\n",
        "    monitor_loss += loss.item()\n",
        "    if i % 2000 == 1999: #because the networks runs from 0 - .. hence to print out the 0, 1999, 3999, loss (i.e after every 2000 step)\n",
        "      print('[%d, %5d] loss: %f'%(epoch + 1, i + 1, monitor_loss / 2000))\n",
        "      \n",
        "      #reset monitor loss after every full pass of training set\n",
        "      monitor_loss = 0.0\n",
        "\n"
      ],
      "execution_count": 95,
      "outputs": [
        {
          "output_type": "stream",
          "text": [
            "[1,  2000] loss: 2.224431\n",
            "[1,  4000] loss: 1.886197\n",
            "[1,  6000] loss: 1.677084\n",
            "[1,  8000] loss: 1.598515\n",
            "[1, 10000] loss: 1.538594\n",
            "[1, 12000] loss: 1.468669\n",
            "[2,  2000] loss: 1.413332\n",
            "[2,  4000] loss: 1.368615\n",
            "[2,  6000] loss: 1.350648\n",
            "[2,  8000] loss: 1.331506\n",
            "[2, 10000] loss: 1.308549\n",
            "[2, 12000] loss: 1.296194\n"
          ],
          "name": "stdout"
        }
      ]
    },
    {
      "cell_type": "markdown",
      "metadata": {
        "id": "BrVfvfTad4WR"
      },
      "source": [
        "saving model"
      ]
    },
    {
      "cell_type": "code",
      "metadata": {
        "id": "LamJ-XrMUi1N"
      },
      "source": [
        "path = './model.pt'\n",
        "torch.save(net.state_dict(), path)"
      ],
      "execution_count": 96,
      "outputs": []
    },
    {
      "cell_type": "markdown",
      "metadata": {
        "id": "7QxU5RqXekd5"
      },
      "source": [
        "testing model"
      ]
    },
    {
      "cell_type": "code",
      "metadata": {
        "colab": {
          "base_uri": "https://localhost:8080/",
          "height": 1000
        },
        "id": "mgyrrliseTlZ",
        "outputId": "9cf51139-bf3b-4c8d-8cf0-32c435a339ff"
      },
      "source": [
        "rand_test = iter(test_loader)\n",
        "rand_test_data = rand_test.next()\n",
        "\n",
        "#unpacking values\n",
        "images, labels = rand_train_data\n",
        "\n",
        "#parsing to model\n",
        "predictions = net(images)\n",
        "for i in range(4):\n",
        "  _, prediction = predictions.max(1)\n",
        "  #display image\n",
        "  imshow(images[i])\n",
        "\n",
        "  #display label\n",
        "  print(classes[prediction[i].item()])"
      ],
      "execution_count": 97,
      "outputs": [
        {
          "output_type": "display_data",
          "data": {
            "image/png": "[encoded data removed]",
            "text/plain": [
              "<Figure size 432x288 with 1 Axes>"
            ]
          },
          "metadata": {
            "tags": [],
            "needs_background": "light"
          }
        },
        {
          "output_type": "stream",
          "text": [
            "deer\n"
          ],
          "name": "stdout"
        },
        {
          "output_type": "display_data",
          "data": {
            "image/png": "[encoded data removed]",
            "text/plain": [
              "<Figure size 432x288 with 1 Axes>"
            ]
          },
          "metadata": {
            "tags": [],
            "needs_background": "light"
          }
        },
        {
          "output_type": "stream",
          "text": [
            "airplane\n"
          ],
          "name": "stdout"
        },
        {
          "output_type": "display_data",
          "data": {
            "image/png": "[encoded data removed]",
            "text/plain": [
              "<Figure size 432x288 with 1 Axes>"
            ]
          },
          "metadata": {
            "tags": [],
            "needs_background": "light"
          }
        },
        {
          "output_type": "stream",
          "text": [
            "dog\n"
          ],
          "name": "stdout"
        },
        {
          "output_type": "display_data",
          "data": {
            "image/png": "[encoded data removed]",
            "text/plain": [
              "<Figure size 432x288 with 1 Axes>"
            ]
          },
          "metadata": {
            "tags": [],
            "needs_background": "light"
          }
        },
        {
          "output_type": "stream",
          "text": [
            "horse\n"
          ],
          "name": "stdout"
        }
      ]
    },
    {
      "cell_type": "markdown",
      "metadata": {
        "id": "lcTA1_HiheAg"
      },
      "source": [
        "Metrics of Accuracy, testing the entire test dataset"
      ]
    },
    {
      "cell_type": "code",
      "metadata": {
        "colab": {
          "base_uri": "https://localhost:8080/"
        },
        "id": "LD8fIvzmfsaz",
        "outputId": "646605c1-0cd5-431f-bbc8-08bc4a644131"
      },
      "source": [
        "total = 0\n",
        "correct = 0\n",
        "\n",
        "#iterating through entire set\n",
        "for images, labels in test_loader:\n",
        "  outputs = net(images)\n",
        "  _, predictions = outputs.max(1) #argmax or max function produces indicies and values\n",
        "\n",
        "  total += labels.size()[0]\n",
        "  correct += (labels == predictions).sum()\n",
        "\n",
        "#printing accuracy\n",
        "print(\"accuracy: [%.3f]\"%(100 * correct / total))\n",
        "\n"
      ],
      "execution_count": 98,
      "outputs": [
        {
          "output_type": "stream",
          "text": [
            "accuracy: [54.080]\n"
          ],
          "name": "stdout"
        }
      ]
    },
    {
      "cell_type": "markdown",
      "metadata": {
        "id": "ilqvcO6MjY74"
      },
      "source": [
        "metrics of accuracy per item got wrong"
      ]
    },
    {
      "cell_type": "code",
      "metadata": {
        "colab": {
          "base_uri": "https://localhost:8080/"
        },
        "id": "6a8bgh00i6eO",
        "outputId": "a3780cee-2ba1-411f-90a1-bd336b2c5576"
      },
      "source": [
        "correct = [0] * 10\n",
        "total = [0] * 10\n",
        "\n",
        "#iterating through entire set\n",
        "with torch.no_grad():\n",
        "  for images, labels in test_loader:\n",
        "    outputs = net(images)\n",
        "    _, predictions = outputs.max(1) #argmax or max function produces indicies and values\n",
        "\n",
        "    for i in range(4):\n",
        "      if prediction[i] == labels[i]:\n",
        "        correct[prediction[i]] += 1\n",
        "      total[labels[i]] += 1\n",
        "\n",
        "#printing accuracy\n",
        "for r in range(len(classes)):\n",
        "  print(\"accuracy of %s: [%.3f]\"%(classes[r] ,100 * correct[r] / total[r]))"
      ],
      "execution_count": 99,
      "outputs": [
        {
          "output_type": "stream",
          "text": [
            "accuracy of airplane: [26.000]\n",
            "accuracy of automobile: [0.000]\n",
            "accuracy of bird: [0.000]\n",
            "accuracy of cat: [0.000]\n",
            "accuracy of deer: [24.400]\n",
            "accuracy of dog: [23.300]\n",
            "accuracy of frog: [0.000]\n",
            "accuracy of horse: [25.600]\n",
            "accuracy of ship: [0.000]\n",
            "accuracy of truck: [0.000]\n"
          ],
          "name": "stdout"
        }
      ]
    }
  ]
}